{
 "cells": [
  {
   "cell_type": "code",
   "execution_count": 1,
   "id": "3b17c586",
   "metadata": {},
   "outputs": [],
   "source": [
    "import pandas as pd\n",
    "import numpy as np\n",
    "import matplotlib.pyplot as plt\n",
    "import seaborn as sns\n",
    "\n",
    "%matplotlib inline"
   ]
  },
  {
   "cell_type": "code",
   "execution_count": 2,
   "id": "c1855768",
   "metadata": {},
   "outputs": [],
   "source": [
    "data = '../data/cars.csv'"
   ]
  },
  {
   "cell_type": "code",
   "execution_count": 5,
   "id": "8c003686",
   "metadata": {},
   "outputs": [
    {
     "data": {
      "text/html": [
       "<div>\n",
       "<style scoped>\n",
       "    .dataframe tbody tr th:only-of-type {\n",
       "        vertical-align: middle;\n",
       "    }\n",
       "\n",
       "    .dataframe tbody tr th {\n",
       "        vertical-align: top;\n",
       "    }\n",
       "\n",
       "    .dataframe thead th {\n",
       "        text-align: right;\n",
       "    }\n",
       "</style>\n",
       "<table border=\"1\" class=\"dataframe\">\n",
       "  <thead>\n",
       "    <tr style=\"text-align: right;\">\n",
       "      <th></th>\n",
       "      <th>Make</th>\n",
       "      <th>Model</th>\n",
       "      <th>Year</th>\n",
       "      <th>Engine Fuel Type</th>\n",
       "      <th>Engine HP</th>\n",
       "      <th>Engine Cylinders</th>\n",
       "      <th>Transmission Type</th>\n",
       "      <th>Driven_Wheels</th>\n",
       "      <th>Number of Doors</th>\n",
       "      <th>Market Category</th>\n",
       "      <th>Vehicle Size</th>\n",
       "      <th>Vehicle Style</th>\n",
       "      <th>highway MPG</th>\n",
       "      <th>city mpg</th>\n",
       "      <th>Popularity</th>\n",
       "      <th>MSRP</th>\n",
       "    </tr>\n",
       "  </thead>\n",
       "  <tbody>\n",
       "    <tr>\n",
       "      <th>0</th>\n",
       "      <td>BMW</td>\n",
       "      <td>1 Series M</td>\n",
       "      <td>2011</td>\n",
       "      <td>premium unleaded (required)</td>\n",
       "      <td>335.0</td>\n",
       "      <td>6.0</td>\n",
       "      <td>MANUAL</td>\n",
       "      <td>rear wheel drive</td>\n",
       "      <td>2.0</td>\n",
       "      <td>Factory Tuner,Luxury,High-Performance</td>\n",
       "      <td>Compact</td>\n",
       "      <td>Coupe</td>\n",
       "      <td>26</td>\n",
       "      <td>19</td>\n",
       "      <td>3916</td>\n",
       "      <td>46135</td>\n",
       "    </tr>\n",
       "    <tr>\n",
       "      <th>1</th>\n",
       "      <td>BMW</td>\n",
       "      <td>1 Series</td>\n",
       "      <td>2011</td>\n",
       "      <td>premium unleaded (required)</td>\n",
       "      <td>300.0</td>\n",
       "      <td>6.0</td>\n",
       "      <td>MANUAL</td>\n",
       "      <td>rear wheel drive</td>\n",
       "      <td>2.0</td>\n",
       "      <td>Luxury,Performance</td>\n",
       "      <td>Compact</td>\n",
       "      <td>Convertible</td>\n",
       "      <td>28</td>\n",
       "      <td>19</td>\n",
       "      <td>3916</td>\n",
       "      <td>40650</td>\n",
       "    </tr>\n",
       "    <tr>\n",
       "      <th>2</th>\n",
       "      <td>BMW</td>\n",
       "      <td>1 Series</td>\n",
       "      <td>2011</td>\n",
       "      <td>premium unleaded (required)</td>\n",
       "      <td>300.0</td>\n",
       "      <td>6.0</td>\n",
       "      <td>MANUAL</td>\n",
       "      <td>rear wheel drive</td>\n",
       "      <td>2.0</td>\n",
       "      <td>Luxury,High-Performance</td>\n",
       "      <td>Compact</td>\n",
       "      <td>Coupe</td>\n",
       "      <td>28</td>\n",
       "      <td>20</td>\n",
       "      <td>3916</td>\n",
       "      <td>36350</td>\n",
       "    </tr>\n",
       "    <tr>\n",
       "      <th>3</th>\n",
       "      <td>BMW</td>\n",
       "      <td>1 Series</td>\n",
       "      <td>2011</td>\n",
       "      <td>premium unleaded (required)</td>\n",
       "      <td>230.0</td>\n",
       "      <td>6.0</td>\n",
       "      <td>MANUAL</td>\n",
       "      <td>rear wheel drive</td>\n",
       "      <td>2.0</td>\n",
       "      <td>Luxury,Performance</td>\n",
       "      <td>Compact</td>\n",
       "      <td>Coupe</td>\n",
       "      <td>28</td>\n",
       "      <td>18</td>\n",
       "      <td>3916</td>\n",
       "      <td>29450</td>\n",
       "    </tr>\n",
       "    <tr>\n",
       "      <th>4</th>\n",
       "      <td>BMW</td>\n",
       "      <td>1 Series</td>\n",
       "      <td>2011</td>\n",
       "      <td>premium unleaded (required)</td>\n",
       "      <td>230.0</td>\n",
       "      <td>6.0</td>\n",
       "      <td>MANUAL</td>\n",
       "      <td>rear wheel drive</td>\n",
       "      <td>2.0</td>\n",
       "      <td>Luxury</td>\n",
       "      <td>Compact</td>\n",
       "      <td>Convertible</td>\n",
       "      <td>28</td>\n",
       "      <td>18</td>\n",
       "      <td>3916</td>\n",
       "      <td>34500</td>\n",
       "    </tr>\n",
       "  </tbody>\n",
       "</table>\n",
       "</div>"
      ],
      "text/plain": [
       "  Make       Model  Year             Engine Fuel Type  Engine HP  \\\n",
       "0  BMW  1 Series M  2011  premium unleaded (required)      335.0   \n",
       "1  BMW    1 Series  2011  premium unleaded (required)      300.0   \n",
       "2  BMW    1 Series  2011  premium unleaded (required)      300.0   \n",
       "3  BMW    1 Series  2011  premium unleaded (required)      230.0   \n",
       "4  BMW    1 Series  2011  premium unleaded (required)      230.0   \n",
       "\n",
       "   Engine Cylinders Transmission Type     Driven_Wheels  Number of Doors  \\\n",
       "0               6.0            MANUAL  rear wheel drive              2.0   \n",
       "1               6.0            MANUAL  rear wheel drive              2.0   \n",
       "2               6.0            MANUAL  rear wheel drive              2.0   \n",
       "3               6.0            MANUAL  rear wheel drive              2.0   \n",
       "4               6.0            MANUAL  rear wheel drive              2.0   \n",
       "\n",
       "                         Market Category Vehicle Size Vehicle Style  \\\n",
       "0  Factory Tuner,Luxury,High-Performance      Compact         Coupe   \n",
       "1                     Luxury,Performance      Compact   Convertible   \n",
       "2                Luxury,High-Performance      Compact         Coupe   \n",
       "3                     Luxury,Performance      Compact         Coupe   \n",
       "4                                 Luxury      Compact   Convertible   \n",
       "\n",
       "   highway MPG  city mpg  Popularity   MSRP  \n",
       "0           26        19        3916  46135  \n",
       "1           28        19        3916  40650  \n",
       "2           28        20        3916  36350  \n",
       "3           28        18        3916  29450  \n",
       "4           28        18        3916  34500  "
      ]
     },
     "execution_count": 5,
     "metadata": {},
     "output_type": "execute_result"
    }
   ],
   "source": [
    "df = pd.read_csv(data)\n",
    "df.head()"
   ]
  },
  {
   "cell_type": "code",
   "execution_count": 6,
   "id": "bfdc12c6",
   "metadata": {},
   "outputs": [],
   "source": [
    "# rename columns\n",
    "df.columns = df.columns.str.lower().str.replace(' ', '_')\n",
    "\n",
    "string_columns = list(df.dtypes[df.dtypes == 'object'].index)\n",
    "\n",
    "for col in string_columns:\n",
    "    df[col] = df[col].str.lower().str.replace(' ', '_')"
   ]
  },
  {
   "cell_type": "code",
   "execution_count": 7,
   "id": "6fe3135d",
   "metadata": {},
   "outputs": [
    {
     "data": {
      "text/plain": [
       "Index(['make', 'model', 'year', 'engine_fuel_type', 'engine_hp',\n",
       "       'engine_cylinders', 'transmission_type', 'driven_wheels',\n",
       "       'number_of_doors', 'market_category', 'vehicle_size', 'vehicle_style',\n",
       "       'highway_mpg', 'city_mpg', 'popularity', 'msrp'],\n",
       "      dtype='object')"
      ]
     },
     "execution_count": 7,
     "metadata": {},
     "output_type": "execute_result"
    }
   ],
   "source": [
    "df.columns"
   ]
  },
  {
   "cell_type": "markdown",
   "id": "7870727c",
   "metadata": {},
   "source": [
    "### _EDA_"
   ]
  },
  {
   "cell_type": "code",
   "execution_count": 30,
   "id": "70196050",
   "metadata": {},
   "outputs": [
    {
     "data": {
      "image/png": "[encoded data removed]",
      "text/plain": [
       "<Figure size 640x480 with 1 Axes>"
      ]
     },
     "metadata": {},
     "output_type": "display_data"
    }
   ],
   "source": [
    "df.msrp.plot(kind='hist', \n",
    "                bins=50, \n",
    "                ec='white', \n",
    "                title = 'Distribution of prices',\n",
    "                xlabel = 'Price',\n",
    "                alpha = 0.8\n",
    "            );"
   ]
  },
  {
   "cell_type": "code",
   "execution_count": 27,
   "id": "6952af36",
   "metadata": {},
   "outputs": [
    {
     "data": {
      "image/png": "[encoded data removed]",
      "text/plain": [
       "<Figure size 600x400 with 1 Axes>"
      ]
     },
     "metadata": {},
     "output_type": "display_data"
    }
   ],
   "source": [
    "\n",
    "plt.figure(figsize=(6, 4))\n",
    "\n",
    "sns.histplot(df.msrp[df.msrp < 100000], bins=40, ec='white', alpha=0.8)\n",
    "plt.ylabel('Frequency')\n",
    "plt.xlabel('Price')\n",
    "plt.title('Distribution of prices 0 to 100K')\n",
    "\n",
    "plt.show()"
   ]
  },
  {
   "cell_type": "markdown",
   "id": "bdf6912c",
   "metadata": {},
   "source": [
    "#### Logarithmic transformation\n",
    "\n",
    "- to achieve normal distribution"
   ]
  },
  {
   "cell_type": "code",
   "execution_count": 28,
   "id": "df87da6a",
   "metadata": {},
   "outputs": [
    {
     "data": {
      "image/png": "[encoded data removed]",
      "text/plain": [
       "<Figure size 600x400 with 1 Axes>"
      ]
     },
     "metadata": {},
     "output_type": "display_data"
    }
   ],
   "source": [
    "log_price = np.log1p(df.msrp)\n",
    "\n",
    "plt.figure(figsize=(6, 4))\n",
    "\n",
    "sns.histplot(log_price, bins=40, ec='white', alpha=0.8)\n",
    "plt.ylabel('Frequency')\n",
    "plt.xlabel('Log(Price + 1)')\n",
    "plt.title('Distribution of prices after log tranformation')\n",
    "\n",
    "plt.show()"
   ]
  },
  {
   "cell_type": "code",
   "execution_count": 31,
   "id": "ae988d68",
   "metadata": {},
   "outputs": [
    {
     "data": {
      "text/plain": [
       "make                    0\n",
       "model                   0\n",
       "year                    0\n",
       "engine_fuel_type        3\n",
       "engine_hp              69\n",
       "engine_cylinders       30\n",
       "transmission_type       0\n",
       "driven_wheels           0\n",
       "number_of_doors         6\n",
       "market_category      3742\n",
       "vehicle_size            0\n",
       "vehicle_style           0\n",
       "highway_mpg             0\n",
       "city_mpg                0\n",
       "popularity              0\n",
       "msrp                    0\n",
       "dtype: int64"
      ]
     },
     "execution_count": 31,
     "metadata": {},
     "output_type": "execute_result"
    }
   ],
   "source": [
    "# calculate nulls per column\n",
    "df.isna().sum()"
   ]
  },
  {
   "cell_type": "code",
   "execution_count": 33,
   "id": "0512ee70",
   "metadata": {},
   "outputs": [
    {
     "data": {
      "text/html": [
       "<div>\n",
       "<style scoped>\n",
       "    .dataframe tbody tr th:only-of-type {\n",
       "        vertical-align: middle;\n",
       "    }\n",
       "\n",
       "    .dataframe tbody tr th {\n",
       "        vertical-align: top;\n",
       "    }\n",
       "\n",
       "    .dataframe thead th {\n",
       "        text-align: right;\n",
       "    }\n",
       "</style>\n",
       "<table border=\"1\" class=\"dataframe\">\n",
       "  <thead>\n",
       "    <tr style=\"text-align: right;\">\n",
       "      <th></th>\n",
       "      <th>make</th>\n",
       "      <th>model</th>\n",
       "      <th>year</th>\n",
       "      <th>engine_fuel_type</th>\n",
       "      <th>engine_hp</th>\n",
       "      <th>engine_cylinders</th>\n",
       "      <th>transmission_type</th>\n",
       "      <th>driven_wheels</th>\n",
       "      <th>number_of_doors</th>\n",
       "      <th>market_category</th>\n",
       "      <th>vehicle_size</th>\n",
       "      <th>vehicle_style</th>\n",
       "      <th>highway_mpg</th>\n",
       "      <th>city_mpg</th>\n",
       "      <th>popularity</th>\n",
       "      <th>msrp</th>\n",
       "    </tr>\n",
       "  </thead>\n",
       "  <tbody>\n",
       "    <tr>\n",
       "      <th>87</th>\n",
       "      <td>nissan</td>\n",
       "      <td>200sx</td>\n",
       "      <td>1996</td>\n",
       "      <td>regular_unleaded</td>\n",
       "      <td>115.0</td>\n",
       "      <td>4.0</td>\n",
       "      <td>manual</td>\n",
       "      <td>front_wheel_drive</td>\n",
       "      <td>2.0</td>\n",
       "      <td>NaN</td>\n",
       "      <td>compact</td>\n",
       "      <td>coupe</td>\n",
       "      <td>36</td>\n",
       "      <td>26</td>\n",
       "      <td>2009</td>\n",
       "      <td>2000</td>\n",
       "    </tr>\n",
       "    <tr>\n",
       "      <th>88</th>\n",
       "      <td>nissan</td>\n",
       "      <td>200sx</td>\n",
       "      <td>1996</td>\n",
       "      <td>regular_unleaded</td>\n",
       "      <td>115.0</td>\n",
       "      <td>4.0</td>\n",
       "      <td>manual</td>\n",
       "      <td>front_wheel_drive</td>\n",
       "      <td>2.0</td>\n",
       "      <td>NaN</td>\n",
       "      <td>compact</td>\n",
       "      <td>coupe</td>\n",
       "      <td>36</td>\n",
       "      <td>26</td>\n",
       "      <td>2009</td>\n",
       "      <td>2000</td>\n",
       "    </tr>\n",
       "    <tr>\n",
       "      <th>91</th>\n",
       "      <td>nissan</td>\n",
       "      <td>200sx</td>\n",
       "      <td>1997</td>\n",
       "      <td>regular_unleaded</td>\n",
       "      <td>115.0</td>\n",
       "      <td>4.0</td>\n",
       "      <td>manual</td>\n",
       "      <td>front_wheel_drive</td>\n",
       "      <td>2.0</td>\n",
       "      <td>NaN</td>\n",
       "      <td>compact</td>\n",
       "      <td>coupe</td>\n",
       "      <td>35</td>\n",
       "      <td>25</td>\n",
       "      <td>2009</td>\n",
       "      <td>2000</td>\n",
       "    </tr>\n",
       "    <tr>\n",
       "      <th>92</th>\n",
       "      <td>nissan</td>\n",
       "      <td>200sx</td>\n",
       "      <td>1997</td>\n",
       "      <td>regular_unleaded</td>\n",
       "      <td>115.0</td>\n",
       "      <td>4.0</td>\n",
       "      <td>manual</td>\n",
       "      <td>front_wheel_drive</td>\n",
       "      <td>2.0</td>\n",
       "      <td>NaN</td>\n",
       "      <td>compact</td>\n",
       "      <td>coupe</td>\n",
       "      <td>35</td>\n",
       "      <td>25</td>\n",
       "      <td>2009</td>\n",
       "      <td>2000</td>\n",
       "    </tr>\n",
       "    <tr>\n",
       "      <th>93</th>\n",
       "      <td>nissan</td>\n",
       "      <td>200sx</td>\n",
       "      <td>1998</td>\n",
       "      <td>regular_unleaded</td>\n",
       "      <td>115.0</td>\n",
       "      <td>4.0</td>\n",
       "      <td>manual</td>\n",
       "      <td>front_wheel_drive</td>\n",
       "      <td>2.0</td>\n",
       "      <td>NaN</td>\n",
       "      <td>compact</td>\n",
       "      <td>coupe</td>\n",
       "      <td>35</td>\n",
       "      <td>25</td>\n",
       "      <td>2009</td>\n",
       "      <td>2000</td>\n",
       "    </tr>\n",
       "    <tr>\n",
       "      <th>...</th>\n",
       "      <td>...</td>\n",
       "      <td>...</td>\n",
       "      <td>...</td>\n",
       "      <td>...</td>\n",
       "      <td>...</td>\n",
       "      <td>...</td>\n",
       "      <td>...</td>\n",
       "      <td>...</td>\n",
       "      <td>...</td>\n",
       "      <td>...</td>\n",
       "      <td>...</td>\n",
       "      <td>...</td>\n",
       "      <td>...</td>\n",
       "      <td>...</td>\n",
       "      <td>...</td>\n",
       "      <td>...</td>\n",
       "    </tr>\n",
       "    <tr>\n",
       "      <th>11794</th>\n",
       "      <td>subaru</td>\n",
       "      <td>xt</td>\n",
       "      <td>1991</td>\n",
       "      <td>regular_unleaded</td>\n",
       "      <td>145.0</td>\n",
       "      <td>6.0</td>\n",
       "      <td>manual</td>\n",
       "      <td>all_wheel_drive</td>\n",
       "      <td>2.0</td>\n",
       "      <td>NaN</td>\n",
       "      <td>compact</td>\n",
       "      <td>coupe</td>\n",
       "      <td>23</td>\n",
       "      <td>16</td>\n",
       "      <td>640</td>\n",
       "      <td>2000</td>\n",
       "    </tr>\n",
       "    <tr>\n",
       "      <th>11809</th>\n",
       "      <td>toyota</td>\n",
       "      <td>yaris_ia</td>\n",
       "      <td>2017</td>\n",
       "      <td>regular_unleaded</td>\n",
       "      <td>106.0</td>\n",
       "      <td>4.0</td>\n",
       "      <td>manual</td>\n",
       "      <td>front_wheel_drive</td>\n",
       "      <td>4.0</td>\n",
       "      <td>NaN</td>\n",
       "      <td>compact</td>\n",
       "      <td>sedan</td>\n",
       "      <td>39</td>\n",
       "      <td>30</td>\n",
       "      <td>2031</td>\n",
       "      <td>15950</td>\n",
       "    </tr>\n",
       "    <tr>\n",
       "      <th>11810</th>\n",
       "      <td>toyota</td>\n",
       "      <td>yaris_ia</td>\n",
       "      <td>2017</td>\n",
       "      <td>regular_unleaded</td>\n",
       "      <td>106.0</td>\n",
       "      <td>4.0</td>\n",
       "      <td>automatic</td>\n",
       "      <td>front_wheel_drive</td>\n",
       "      <td>4.0</td>\n",
       "      <td>NaN</td>\n",
       "      <td>compact</td>\n",
       "      <td>sedan</td>\n",
       "      <td>40</td>\n",
       "      <td>32</td>\n",
       "      <td>2031</td>\n",
       "      <td>17050</td>\n",
       "    </tr>\n",
       "    <tr>\n",
       "      <th>11867</th>\n",
       "      <td>gmc</td>\n",
       "      <td>yukon</td>\n",
       "      <td>2015</td>\n",
       "      <td>premium_unleaded_(recommended)</td>\n",
       "      <td>420.0</td>\n",
       "      <td>8.0</td>\n",
       "      <td>automatic</td>\n",
       "      <td>rear_wheel_drive</td>\n",
       "      <td>4.0</td>\n",
       "      <td>NaN</td>\n",
       "      <td>large</td>\n",
       "      <td>4dr_suv</td>\n",
       "      <td>21</td>\n",
       "      <td>15</td>\n",
       "      <td>549</td>\n",
       "      <td>64520</td>\n",
       "    </tr>\n",
       "    <tr>\n",
       "      <th>11868</th>\n",
       "      <td>gmc</td>\n",
       "      <td>yukon</td>\n",
       "      <td>2015</td>\n",
       "      <td>premium_unleaded_(recommended)</td>\n",
       "      <td>420.0</td>\n",
       "      <td>8.0</td>\n",
       "      <td>automatic</td>\n",
       "      <td>four_wheel_drive</td>\n",
       "      <td>4.0</td>\n",
       "      <td>NaN</td>\n",
       "      <td>large</td>\n",
       "      <td>4dr_suv</td>\n",
       "      <td>21</td>\n",
       "      <td>14</td>\n",
       "      <td>549</td>\n",
       "      <td>67520</td>\n",
       "    </tr>\n",
       "  </tbody>\n",
       "</table>\n",
       "<p>3742 rows × 16 columns</p>\n",
       "</div>"
      ],
      "text/plain": [
       "         make     model  year                engine_fuel_type  engine_hp  \\\n",
       "87     nissan     200sx  1996                regular_unleaded      115.0   \n",
       "88     nissan     200sx  1996                regular_unleaded      115.0   \n",
       "91     nissan     200sx  1997                regular_unleaded      115.0   \n",
       "92     nissan     200sx  1997                regular_unleaded      115.0   \n",
       "93     nissan     200sx  1998                regular_unleaded      115.0   \n",
       "...       ...       ...   ...                             ...        ...   \n",
       "11794  subaru        xt  1991                regular_unleaded      145.0   \n",
       "11809  toyota  yaris_ia  2017                regular_unleaded      106.0   \n",
       "11810  toyota  yaris_ia  2017                regular_unleaded      106.0   \n",
       "11867     gmc     yukon  2015  premium_unleaded_(recommended)      420.0   \n",
       "11868     gmc     yukon  2015  premium_unleaded_(recommended)      420.0   \n",
       "\n",
       "       engine_cylinders transmission_type      driven_wheels  number_of_doors  \\\n",
       "87                  4.0            manual  front_wheel_drive              2.0   \n",
       "88                  4.0            manual  front_wheel_drive              2.0   \n",
       "91                  4.0            manual  front_wheel_drive              2.0   \n",
       "92                  4.0            manual  front_wheel_drive              2.0   \n",
       "93                  4.0            manual  front_wheel_drive              2.0   \n",
       "...                 ...               ...                ...              ...   \n",
       "11794               6.0            manual    all_wheel_drive              2.0   \n",
       "11809               4.0            manual  front_wheel_drive              4.0   \n",
       "11810               4.0         automatic  front_wheel_drive              4.0   \n",
       "11867               8.0         automatic   rear_wheel_drive              4.0   \n",
       "11868               8.0         automatic   four_wheel_drive              4.0   \n",
       "\n",
       "      market_category vehicle_size vehicle_style  highway_mpg  city_mpg  \\\n",
       "87                NaN      compact         coupe           36        26   \n",
       "88                NaN      compact         coupe           36        26   \n",
       "91                NaN      compact         coupe           35        25   \n",
       "92                NaN      compact         coupe           35        25   \n",
       "93                NaN      compact         coupe           35        25   \n",
       "...               ...          ...           ...          ...       ...   \n",
       "11794             NaN      compact         coupe           23        16   \n",
       "11809             NaN      compact         sedan           39        30   \n",
       "11810             NaN      compact         sedan           40        32   \n",
       "11867             NaN        large       4dr_suv           21        15   \n",
       "11868             NaN        large       4dr_suv           21        14   \n",
       "\n",
       "       popularity   msrp  \n",
       "87           2009   2000  \n",
       "88           2009   2000  \n",
       "91           2009   2000  \n",
       "92           2009   2000  \n",
       "93           2009   2000  \n",
       "...           ...    ...  \n",
       "11794         640   2000  \n",
       "11809        2031  15950  \n",
       "11810        2031  17050  \n",
       "11867         549  64520  \n",
       "11868         549  67520  \n",
       "\n",
       "[3742 rows x 16 columns]"
      ]
     },
     "execution_count": 33,
     "metadata": {},
     "output_type": "execute_result"
    }
   ],
   "source": [
    "df[df.market_category.isnull()]"
   ]
  },
  {
   "cell_type": "code",
   "execution_count": 35,
   "id": "6b901ae1",
   "metadata": {},
   "outputs": [
    {
     "data": {
      "text/plain": [
       "71"
      ]
     },
     "execution_count": 35,
     "metadata": {},
     "output_type": "execute_result"
    }
   ],
   "source": [
    "df.market_category.nunique()"
   ]
  },
  {
   "cell_type": "code",
   "execution_count": 36,
   "id": "60c549f9",
   "metadata": {},
   "outputs": [
    {
     "data": {
      "text/plain": [
       "array(['factory_tuner,luxury,high-performance', 'luxury,performance',\n",
       "       'luxury,high-performance', 'luxury', 'performance', 'flex_fuel',\n",
       "       'flex_fuel,performance', nan, 'hatchback',\n",
       "       'hatchback,luxury,performance', 'hatchback,luxury',\n",
       "       'luxury,high-performance,hybrid', 'diesel,luxury',\n",
       "       'hatchback,performance', 'hatchback,factory_tuner,performance',\n",
       "       'high-performance', 'factory_tuner,high-performance',\n",
       "       'exotic,high-performance', 'exotic,factory_tuner,high-performance',\n",
       "       'factory_tuner,performance', 'crossover', 'exotic,luxury',\n",
       "       'exotic,luxury,high-performance', 'exotic,luxury,performance',\n",
       "       'factory_tuner,luxury,performance', 'flex_fuel,luxury',\n",
       "       'crossover,luxury', 'hatchback,factory_tuner,luxury,performance',\n",
       "       'crossover,hatchback', 'hybrid', 'luxury,performance,hybrid',\n",
       "       'crossover,luxury,performance,hybrid',\n",
       "       'crossover,luxury,performance',\n",
       "       'exotic,factory_tuner,luxury,high-performance',\n",
       "       'flex_fuel,luxury,high-performance', 'crossover,flex_fuel',\n",
       "       'diesel', 'hatchback,diesel', 'crossover,luxury,diesel',\n",
       "       'crossover,luxury,high-performance',\n",
       "       'exotic,flex_fuel,factory_tuner,luxury,high-performance',\n",
       "       'exotic,flex_fuel,luxury,high-performance',\n",
       "       'exotic,factory_tuner,luxury,performance', 'hatchback,hybrid',\n",
       "       'crossover,hybrid', 'hatchback,luxury,hybrid',\n",
       "       'flex_fuel,luxury,performance', 'crossover,performance',\n",
       "       'luxury,hybrid', 'crossover,flex_fuel,luxury,performance',\n",
       "       'crossover,flex_fuel,luxury', 'crossover,flex_fuel,performance',\n",
       "       'hatchback,factory_tuner,high-performance', 'hatchback,flex_fuel',\n",
       "       'factory_tuner,luxury',\n",
       "       'crossover,factory_tuner,luxury,high-performance',\n",
       "       'crossover,factory_tuner,luxury,performance',\n",
       "       'crossover,hatchback,factory_tuner,performance',\n",
       "       'crossover,hatchback,performance', 'flex_fuel,hybrid',\n",
       "       'flex_fuel,performance,hybrid',\n",
       "       'crossover,exotic,luxury,high-performance',\n",
       "       'crossover,exotic,luxury,performance', 'exotic,performance',\n",
       "       'exotic,luxury,high-performance,hybrid', 'crossover,luxury,hybrid',\n",
       "       'flex_fuel,factory_tuner,luxury,high-performance',\n",
       "       'performance,hybrid', 'crossover,factory_tuner,performance',\n",
       "       'crossover,diesel', 'flex_fuel,diesel',\n",
       "       'crossover,hatchback,luxury'], dtype=object)"
      ]
     },
     "execution_count": 36,
     "metadata": {},
     "output_type": "execute_result"
    }
   ],
   "source": [
    "df.market_category.unique()"
   ]
  },
  {
   "cell_type": "code",
   "execution_count": 41,
   "id": "588f590b",
   "metadata": {},
   "outputs": [
    {
     "data": {
      "text/html": [
       "<div>\n",
       "<style scoped>\n",
       "    .dataframe tbody tr th:only-of-type {\n",
       "        vertical-align: middle;\n",
       "    }\n",
       "\n",
       "    .dataframe tbody tr th {\n",
       "        vertical-align: top;\n",
       "    }\n",
       "\n",
       "    .dataframe thead th {\n",
       "        text-align: right;\n",
       "    }\n",
       "</style>\n",
       "<table border=\"1\" class=\"dataframe\">\n",
       "  <thead>\n",
       "    <tr style=\"text-align: right;\">\n",
       "      <th></th>\n",
       "      <th>0</th>\n",
       "      <th>1</th>\n",
       "      <th>2</th>\n",
       "      <th>3</th>\n",
       "      <th>4</th>\n",
       "    </tr>\n",
       "  </thead>\n",
       "  <tbody>\n",
       "    <tr>\n",
       "      <th>0</th>\n",
       "      <td>factory_tuner</td>\n",
       "      <td>luxury</td>\n",
       "      <td>high-performance</td>\n",
       "      <td>None</td>\n",
       "      <td>None</td>\n",
       "    </tr>\n",
       "    <tr>\n",
       "      <th>1</th>\n",
       "      <td>luxury</td>\n",
       "      <td>performance</td>\n",
       "      <td>None</td>\n",
       "      <td>None</td>\n",
       "      <td>None</td>\n",
       "    </tr>\n",
       "    <tr>\n",
       "      <th>2</th>\n",
       "      <td>luxury</td>\n",
       "      <td>high-performance</td>\n",
       "      <td>None</td>\n",
       "      <td>None</td>\n",
       "      <td>None</td>\n",
       "    </tr>\n",
       "    <tr>\n",
       "      <th>3</th>\n",
       "      <td>luxury</td>\n",
       "      <td>performance</td>\n",
       "      <td>None</td>\n",
       "      <td>None</td>\n",
       "      <td>None</td>\n",
       "    </tr>\n",
       "    <tr>\n",
       "      <th>4</th>\n",
       "      <td>luxury</td>\n",
       "      <td>None</td>\n",
       "      <td>None</td>\n",
       "      <td>None</td>\n",
       "      <td>None</td>\n",
       "    </tr>\n",
       "    <tr>\n",
       "      <th>...</th>\n",
       "      <td>...</td>\n",
       "      <td>...</td>\n",
       "      <td>...</td>\n",
       "      <td>...</td>\n",
       "      <td>...</td>\n",
       "    </tr>\n",
       "    <tr>\n",
       "      <th>11909</th>\n",
       "      <td>crossover</td>\n",
       "      <td>hatchback</td>\n",
       "      <td>luxury</td>\n",
       "      <td>None</td>\n",
       "      <td>None</td>\n",
       "    </tr>\n",
       "    <tr>\n",
       "      <th>11910</th>\n",
       "      <td>crossover</td>\n",
       "      <td>hatchback</td>\n",
       "      <td>luxury</td>\n",
       "      <td>None</td>\n",
       "      <td>None</td>\n",
       "    </tr>\n",
       "    <tr>\n",
       "      <th>11911</th>\n",
       "      <td>crossover</td>\n",
       "      <td>hatchback</td>\n",
       "      <td>luxury</td>\n",
       "      <td>None</td>\n",
       "      <td>None</td>\n",
       "    </tr>\n",
       "    <tr>\n",
       "      <th>11912</th>\n",
       "      <td>crossover</td>\n",
       "      <td>hatchback</td>\n",
       "      <td>luxury</td>\n",
       "      <td>None</td>\n",
       "      <td>None</td>\n",
       "    </tr>\n",
       "    <tr>\n",
       "      <th>11913</th>\n",
       "      <td>luxury</td>\n",
       "      <td>None</td>\n",
       "      <td>None</td>\n",
       "      <td>None</td>\n",
       "      <td>None</td>\n",
       "    </tr>\n",
       "  </tbody>\n",
       "</table>\n",
       "<p>11914 rows × 5 columns</p>\n",
       "</div>"
      ],
      "text/plain": [
       "                   0                 1                 2     3     4\n",
       "0      factory_tuner            luxury  high-performance  None  None\n",
       "1             luxury       performance              None  None  None\n",
       "2             luxury  high-performance              None  None  None\n",
       "3             luxury       performance              None  None  None\n",
       "4             luxury              None              None  None  None\n",
       "...              ...               ...               ...   ...   ...\n",
       "11909      crossover         hatchback            luxury  None  None\n",
       "11910      crossover         hatchback            luxury  None  None\n",
       "11911      crossover         hatchback            luxury  None  None\n",
       "11912      crossover         hatchback            luxury  None  None\n",
       "11913         luxury              None              None  None  None\n",
       "\n",
       "[11914 rows x 5 columns]"
      ]
     },
     "execution_count": 41,
     "metadata": {},
     "output_type": "execute_result"
    }
   ],
   "source": [
    "df.market_category.str.split(',', expand=True)"
   ]
  },
  {
   "cell_type": "code",
   "execution_count": 42,
   "id": "f95dc527",
   "metadata": {},
   "outputs": [],
   "source": [
    "mc = df.market_category.str.split(',', expand=True)"
   ]
  },
  {
   "cell_type": "markdown",
   "id": "684f22c7",
   "metadata": {},
   "source": [
    "We get both `np.nan` and `None` values!!!"
   ]
  },
  {
   "cell_type": "code",
   "execution_count": 60,
   "id": "f8ab9dd2",
   "metadata": {},
   "outputs": [
    {
     "data": {
      "text/plain": [
       "array(['factory_tuner', 'luxury', 'performance', 'flex_fuel', nan,\n",
       "       'hatchback', 'diesel', 'high-performance', 'exotic', 'crossover',\n",
       "       'hybrid'], dtype=object)"
      ]
     },
     "execution_count": 60,
     "metadata": {},
     "output_type": "execute_result"
    }
   ],
   "source": [
    "mc0 = mc[0].unique()\n",
    "mc0"
   ]
  },
  {
   "cell_type": "markdown",
   "id": "94ac5619",
   "metadata": {},
   "source": [
    "`np.isna(x)` doesn't work with strings!!! Filter to remove `nan`:"
   ]
  },
  {
   "cell_type": "code",
   "execution_count": 72,
   "id": "d71f322a",
   "metadata": {},
   "outputs": [
    {
     "data": {
      "text/plain": [
       "array(['factory_tuner', 'luxury', 'performance', 'flex_fuel', 'hatchback',\n",
       "       'diesel', 'high-performance', 'exotic', 'crossover', 'hybrid'],\n",
       "      dtype='<U16')"
      ]
     },
     "execution_count": 72,
     "metadata": {},
     "output_type": "execute_result"
    }
   ],
   "source": [
    "np.array(list(filter(lambda x: x==x, mc0)))"
   ]
  },
  {
   "cell_type": "code",
   "execution_count": 81,
   "id": "56419f56",
   "metadata": {},
   "outputs": [],
   "source": [
    "mc0 = np.array(list(filter(lambda x: x==x, mc0)))"
   ]
  },
  {
   "cell_type": "code",
   "execution_count": 106,
   "id": "c4e7d556",
   "metadata": {},
   "outputs": [
    {
     "data": {
      "text/plain": [
       "array(['luxury', 'performance', 'high-performance', None, nan,\n",
       "       'factory_tuner', 'hatchback', 'flex_fuel', 'diesel', 'hybrid',\n",
       "       'exotic'], dtype=object)"
      ]
     },
     "execution_count": 106,
     "metadata": {},
     "output_type": "execute_result"
    }
   ],
   "source": [
    "mc1 = mc[1].unique()\n",
    "mc1\n"
   ]
  },
  {
   "cell_type": "code",
   "execution_count": 107,
   "id": "41349ad4",
   "metadata": {},
   "outputs": [
    {
     "data": {
      "text/plain": [
       "array(['luxury', 'performance', 'high-performance', 'factory_tuner',\n",
       "       'hatchback', 'flex_fuel', 'diesel', 'hybrid', 'exotic'],\n",
       "      dtype='<U16')"
      ]
     },
     "execution_count": 107,
     "metadata": {},
     "output_type": "execute_result"
    }
   ],
   "source": [
    "# remove None type\n",
    "mc1 = mc1[~(mc1 == None)]\n",
    "# remove np.nan\n",
    "mc1 = np.array(list(filter(lambda x: x==x, mc1)))\n",
    "mc1"
   ]
  },
  {
   "cell_type": "code",
   "execution_count": 108,
   "id": "627f4fd3",
   "metadata": {},
   "outputs": [
    {
     "data": {
      "text/plain": [
       "array(['high-performance', 'performance', 'hybrid', 'luxury', 'diesel',\n",
       "       'factory_tuner'], dtype='<U16')"
      ]
     },
     "execution_count": 108,
     "metadata": {},
     "output_type": "execute_result"
    }
   ],
   "source": [
    "mc2 = mc[2].unique()\n",
    "mc2 = mc2[~(mc2 == None)]\n",
    "mc2 = np.array(list(filter(lambda x: x==x, mc2)))\n",
    "mc2"
   ]
  },
  {
   "cell_type": "code",
   "execution_count": 109,
   "id": "2dbcea10",
   "metadata": {},
   "outputs": [
    {
     "data": {
      "text/plain": [
       "array(['performance', 'hybrid', 'high-performance', 'luxury'],\n",
       "      dtype='<U16')"
      ]
     },
     "execution_count": 109,
     "metadata": {},
     "output_type": "execute_result"
    }
   ],
   "source": [
    "mc3 = mc[3].unique()\n",
    "mc3 = mc3[~(mc3 == None)]\n",
    "mc3 = np.array(list(filter(lambda x: x==x, mc3)))\n",
    "mc3"
   ]
  },
  {
   "cell_type": "code",
   "execution_count": 110,
   "id": "c39b374e",
   "metadata": {},
   "outputs": [
    {
     "data": {
      "text/plain": [
       "array(['high-performance'], dtype='<U16')"
      ]
     },
     "execution_count": 110,
     "metadata": {},
     "output_type": "execute_result"
    }
   ],
   "source": [
    "mc4 = mc[4].unique()\n",
    "mc4 = mc4[~(mc4 == None)]\n",
    "mc4 = np.array(list(filter(lambda x: x==x, mc4)))\n",
    "mc4"
   ]
  },
  {
   "cell_type": "code",
   "execution_count": 111,
   "id": "0f5e249f",
   "metadata": {},
   "outputs": [
    {
     "data": {
      "text/plain": [
       "array(['crossover', 'diesel', 'exotic', 'factory_tuner', 'flex_fuel',\n",
       "       'hatchback', 'high-performance', 'hybrid', 'luxury', 'performance'],\n",
       "      dtype='<U16')"
      ]
     },
     "execution_count": 111,
     "metadata": {},
     "output_type": "execute_result"
    }
   ],
   "source": [
    "# find unique values of all market categories\n",
    "from functools import reduce\n",
    "\n",
    "reduce(np.union1d, (mc0, mc1, mc2, mc3, mc4))"
   ]
  },
  {
   "cell_type": "code",
   "execution_count": null,
   "metadata": {},
   "outputs": [],
   "source": []
  }
 ],
 "metadata": {
  "kernelspec": {
   "display_name": "Python 3 (ipykernel)",
   "language": "python",
   "name": "python3"
  },
  "language_info": {
   "codemirror_mode": {
    "name": "ipython",
    "version": 3
   },
   "file_extension": ".py",
   "mimetype": "text/x-python",
   "name": "python",
   "nbconvert_exporter": "python",
   "pygments_lexer": "ipython3",
   "version": "3.10.9"
  }
 },
 "nbformat": 4,
 "nbformat_minor": 5
}
