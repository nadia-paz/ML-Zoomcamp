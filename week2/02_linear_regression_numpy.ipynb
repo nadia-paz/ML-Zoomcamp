{
 "cells": [
  {
   "cell_type": "code",
   "execution_count": 2,
   "metadata": {},
   "outputs": [],
   "source": [
    "import pandas as pd \n",
    "import numpy as np\n",
    "import matplotlib.pyplot as plt \n",
    "import seaborn as sns \n",
    "%matplotlib inline"
   ]
  },
  {
   "cell_type": "markdown",
   "metadata": {},
   "source": [
    "### Implement Linear Regression with Numpy only"
   ]
  },
  {
   "cell_type": "code",
   "execution_count": 13,
   "metadata": {},
   "outputs": [
    {
     "data": {
      "text/html": [
       "<div>\n",
       "<style scoped>\n",
       "    .dataframe tbody tr th:only-of-type {\n",
       "        vertical-align: middle;\n",
       "    }\n",
       "\n",
       "    .dataframe tbody tr th {\n",
       "        vertical-align: top;\n",
       "    }\n",
       "\n",
       "    .dataframe thead th {\n",
       "        text-align: right;\n",
       "    }\n",
       "</style>\n",
       "<table border=\"1\" class=\"dataframe\">\n",
       "  <thead>\n",
       "    <tr style=\"text-align: right;\">\n",
       "      <th></th>\n",
       "      <th>Make</th>\n",
       "      <th>Model</th>\n",
       "      <th>Year</th>\n",
       "      <th>Engine Fuel Type</th>\n",
       "      <th>Engine HP</th>\n",
       "      <th>Engine Cylinders</th>\n",
       "      <th>Transmission Type</th>\n",
       "      <th>Driven_Wheels</th>\n",
       "      <th>Number of Doors</th>\n",
       "      <th>Market Category</th>\n",
       "      <th>Vehicle Size</th>\n",
       "      <th>Vehicle Style</th>\n",
       "      <th>highway MPG</th>\n",
       "      <th>city mpg</th>\n",
       "      <th>Popularity</th>\n",
       "      <th>MSRP</th>\n",
       "    </tr>\n",
       "  </thead>\n",
       "  <tbody>\n",
       "    <tr>\n",
       "      <th>0</th>\n",
       "      <td>BMW</td>\n",
       "      <td>1 Series M</td>\n",
       "      <td>2011</td>\n",
       "      <td>premium unleaded (required)</td>\n",
       "      <td>335.0</td>\n",
       "      <td>6.0</td>\n",
       "      <td>MANUAL</td>\n",
       "      <td>rear wheel drive</td>\n",
       "      <td>2.0</td>\n",
       "      <td>Factory Tuner,Luxury,High-Performance</td>\n",
       "      <td>Compact</td>\n",
       "      <td>Coupe</td>\n",
       "      <td>26</td>\n",
       "      <td>19</td>\n",
       "      <td>3916</td>\n",
       "      <td>46135</td>\n",
       "    </tr>\n",
       "    <tr>\n",
       "      <th>1</th>\n",
       "      <td>BMW</td>\n",
       "      <td>1 Series</td>\n",
       "      <td>2011</td>\n",
       "      <td>premium unleaded (required)</td>\n",
       "      <td>300.0</td>\n",
       "      <td>6.0</td>\n",
       "      <td>MANUAL</td>\n",
       "      <td>rear wheel drive</td>\n",
       "      <td>2.0</td>\n",
       "      <td>Luxury,Performance</td>\n",
       "      <td>Compact</td>\n",
       "      <td>Convertible</td>\n",
       "      <td>28</td>\n",
       "      <td>19</td>\n",
       "      <td>3916</td>\n",
       "      <td>40650</td>\n",
       "    </tr>\n",
       "  </tbody>\n",
       "</table>\n",
       "</div>"
      ],
      "text/plain": [
       "  Make       Model  Year             Engine Fuel Type  Engine HP  \\\n",
       "0  BMW  1 Series M  2011  premium unleaded (required)      335.0   \n",
       "1  BMW    1 Series  2011  premium unleaded (required)      300.0   \n",
       "\n",
       "   Engine Cylinders Transmission Type     Driven_Wheels  Number of Doors  \\\n",
       "0               6.0            MANUAL  rear wheel drive              2.0   \n",
       "1               6.0            MANUAL  rear wheel drive              2.0   \n",
       "\n",
       "                         Market Category Vehicle Size Vehicle Style  \\\n",
       "0  Factory Tuner,Luxury,High-Performance      Compact         Coupe   \n",
       "1                     Luxury,Performance      Compact   Convertible   \n",
       "\n",
       "   highway MPG  city mpg  Popularity   MSRP  \n",
       "0           26        19        3916  46135  \n",
       "1           28        19        3916  40650  "
      ]
     },
     "execution_count": 13,
     "metadata": {},
     "output_type": "execute_result"
    }
   ],
   "source": [
    "# load dataset\n",
    "data = '../data/cars.csv'\n",
    "df = pd.read_csv(data)\n",
    "df.head(2)"
   ]
  },
  {
   "cell_type": "code",
   "execution_count": 4,
   "metadata": {},
   "outputs": [],
   "source": [
    "import wrangle as wr"
   ]
  },
  {
   "cell_type": "code",
   "execution_count": 14,
   "metadata": {},
   "outputs": [
    {
     "data": {
      "text/plain": [
       "Index(['make', 'model', 'year', 'engine_fuel_type', 'engine_hp',\n",
       "       'engine_cylinders', 'transmission_type', 'driven_wheels',\n",
       "       'number_of_doors', 'market_category', 'vehicle_size', 'vehicle_style',\n",
       "       'highway_mpg', 'city_mpg', 'popularity', 'msrp'],\n",
       "      dtype='object')"
      ]
     },
     "execution_count": 14,
     "metadata": {},
     "output_type": "execute_result"
    }
   ],
   "source": [
    "df = wr.rename_columns(df)\n",
    "df.columns"
   ]
  },
  {
   "cell_type": "markdown",
   "metadata": {},
   "source": [
    "__Train, validate, test split__"
   ]
  },
  {
   "cell_type": "code",
   "execution_count": 15,
   "metadata": {},
   "outputs": [],
   "source": [
    "# make the split reproducible\n",
    "np.random.seed(2912)\n",
    "\n",
    "n = len(df)\n",
    "\n",
    "# 20% for validate, 20% for test and 60% for train\n",
    "n_val = int(0.2 * n)\n",
    "n_test = int(0.2 * n)\n",
    "n_train = n - (n_val + n_test)\n",
    "\n",
    "# shuffle values to make the split random\n",
    "idx = np.arange(n)\n",
    "np.random.shuffle(idx)\n",
    "\n",
    "# rearrange the values inside the dataframe\n",
    "df_shuffled = df.iloc[idx]\n",
    "\n",
    "# split with slicing the data\n",
    "df_train = df_shuffled.iloc[:n_train].copy().reset_index(drop=True)\n",
    "df_val = df_shuffled.iloc[n_train:n_train+n_val].copy().reset_index(drop=True)\n",
    "df_test = df_shuffled.iloc[n_train+n_val:].copy().reset_index(drop=True)"
   ]
  },
  {
   "cell_type": "code",
   "execution_count": 7,
   "metadata": {},
   "outputs": [
    {
     "data": {
      "text/html": [
       "<div>\n",
       "<style scoped>\n",
       "    .dataframe tbody tr th:only-of-type {\n",
       "        vertical-align: middle;\n",
       "    }\n",
       "\n",
       "    .dataframe tbody tr th {\n",
       "        vertical-align: top;\n",
       "    }\n",
       "\n",
       "    .dataframe thead th {\n",
       "        text-align: right;\n",
       "    }\n",
       "</style>\n",
       "<table border=\"1\" class=\"dataframe\">\n",
       "  <thead>\n",
       "    <tr style=\"text-align: right;\">\n",
       "      <th></th>\n",
       "      <th>make</th>\n",
       "      <th>model</th>\n",
       "      <th>year</th>\n",
       "      <th>engine_fuel_type</th>\n",
       "      <th>engine_hp</th>\n",
       "      <th>engine_cylinders</th>\n",
       "      <th>transmission_type</th>\n",
       "      <th>driven_wheels</th>\n",
       "      <th>number_of_doors</th>\n",
       "      <th>market_category</th>\n",
       "      <th>vehicle_size</th>\n",
       "      <th>vehicle_style</th>\n",
       "      <th>highway_mpg</th>\n",
       "      <th>city_mpg</th>\n",
       "      <th>popularity</th>\n",
       "      <th>msrp</th>\n",
       "    </tr>\n",
       "  </thead>\n",
       "  <tbody>\n",
       "    <tr>\n",
       "      <th>0</th>\n",
       "      <td>mercedes-benz</td>\n",
       "      <td>350-class</td>\n",
       "      <td>1991</td>\n",
       "      <td>diesel</td>\n",
       "      <td>134.0</td>\n",
       "      <td>6.0</td>\n",
       "      <td>automatic</td>\n",
       "      <td>rear_wheel_drive</td>\n",
       "      <td>4.0</td>\n",
       "      <td>diesel,luxury</td>\n",
       "      <td>large</td>\n",
       "      <td>sedan</td>\n",
       "      <td>23</td>\n",
       "      <td>19</td>\n",
       "      <td>617</td>\n",
       "      <td>2178</td>\n",
       "    </tr>\n",
       "    <tr>\n",
       "      <th>1</th>\n",
       "      <td>aston_martin</td>\n",
       "      <td>db9</td>\n",
       "      <td>2014</td>\n",
       "      <td>premium_unleaded_(required)</td>\n",
       "      <td>510.0</td>\n",
       "      <td>12.0</td>\n",
       "      <td>automatic</td>\n",
       "      <td>rear_wheel_drive</td>\n",
       "      <td>2.0</td>\n",
       "      <td>exotic,high-performance</td>\n",
       "      <td>midsize</td>\n",
       "      <td>coupe</td>\n",
       "      <td>19</td>\n",
       "      <td>13</td>\n",
       "      <td>259</td>\n",
       "      <td>185800</td>\n",
       "    </tr>\n",
       "  </tbody>\n",
       "</table>\n",
       "</div>"
      ],
      "text/plain": [
       "            make      model  year             engine_fuel_type  engine_hp  \\\n",
       "0  mercedes-benz  350-class  1991                       diesel      134.0   \n",
       "1   aston_martin        db9  2014  premium_unleaded_(required)      510.0   \n",
       "\n",
       "   engine_cylinders transmission_type     driven_wheels  number_of_doors  \\\n",
       "0               6.0         automatic  rear_wheel_drive              4.0   \n",
       "1              12.0         automatic  rear_wheel_drive              2.0   \n",
       "\n",
       "           market_category vehicle_size vehicle_style  highway_mpg  city_mpg  \\\n",
       "0            diesel,luxury        large         sedan           23        19   \n",
       "1  exotic,high-performance      midsize         coupe           19        13   \n",
       "\n",
       "   popularity    msrp  \n",
       "0         617    2178  \n",
       "1         259  185800  "
      ]
     },
     "execution_count": 7,
     "metadata": {},
     "output_type": "execute_result"
    }
   ],
   "source": [
    "df_train.head(2)"
   ]
  },
  {
   "cell_type": "code",
   "execution_count": 8,
   "metadata": {},
   "outputs": [
    {
     "data": {
      "text/plain": [
       "True"
      ]
     },
     "execution_count": 8,
     "metadata": {},
     "output_type": "execute_result"
    }
   ],
   "source": [
    "# check if all element are included in the split\n",
    "len(df) == len(df_train) + len(df_val) + len(df_test)"
   ]
  },
  {
   "cell_type": "code",
   "execution_count": 16,
   "metadata": {},
   "outputs": [],
   "source": [
    "# separate the target variable and make its logarithmic transformation\n",
    "y_train = np.log1p(df_train.msrp.values)\n",
    "y_val = np.log1p(df_val.msrp.values)\n",
    "y_test = np.log1p(df_test.msrp.values)\n",
    "\n",
    "# drop the target variable from the data sets\n",
    "del df_train['msrp']\n",
    "del df_val['msrp']\n",
    "del df_test['msrp']"
   ]
  },
  {
   "cell_type": "markdown",
   "metadata": {},
   "source": [
    "### Linear Regression"
   ]
  },
  {
   "cell_type": "markdown",
   "metadata": {},
   "source": [
    "For one single $y$ the formula is $g(x_i) = w_0 + \\sum_{j=0}^{n-1} w_j * x_{ij}$, where:\n",
    "- $w_0$ is bias (if we don't know any other features, the final result will be equal to this number), or `y-intersect` on the graph. \n",
    "- $n$ - number of features (we count from 0 like in array, that's why $j=0$ and the count goes till $n-1$, normally we count from 1 till $n$). \n",
    "- $w_j$ weight of the $j$ -th feature\n",
    "- $x_{ij}$ the $j$ -th feature of $i$ -th row"
   ]
  },
  {
   "cell_type": "code",
   "execution_count": 22,
   "metadata": {},
   "outputs": [],
   "source": [
    "# make up values\n",
    "xi = [453, 11, 86]\n",
    "w0 = 5.45 # bias\n",
    "w = [0.04, -0.1, 0.01] # weights"
   ]
  },
  {
   "cell_type": "code",
   "execution_count": 23,
   "metadata": {},
   "outputs": [],
   "source": [
    "def linear_regression_1(xi):\n",
    "    n = len(xi)\n",
    "\n",
    "    pred = w0\n",
    "    for j in range(n):\n",
    "        pred = pred + w[j]*xi[j]\n",
    "    return pred"
   ]
  },
  {
   "cell_type": "code",
   "execution_count": 28,
   "metadata": {},
   "outputs": [
    {
     "data": {
      "text/plain": [
       "23.33"
      ]
     },
     "execution_count": 28,
     "metadata": {},
     "output_type": "execute_result"
    }
   ],
   "source": [
    "pred = linear_regression_1(xi)\n",
    "pred"
   ]
  },
  {
   "cell_type": "code",
   "execution_count": 25,
   "metadata": {},
   "outputs": [
    {
     "data": {
      "text/plain": [
       "13554711010.88"
      ]
     },
     "metadata": {},
     "output_type": "display_data"
    },
    {
     "data": {
      "text/plain": [
       "True"
      ]
     },
     "execution_count": 25,
     "metadata": {},
     "output_type": "execute_result"
    }
   ],
   "source": [
    "# convert the prediction value (log(y+1)) to price\n",
    "price = np.expm1(pred)\n",
    "display(price.round(2))\n",
    "price == np.exp(pred) - 1"
   ]
  },
  {
   "cell_type": "markdown",
   "metadata": {},
   "source": [
    "#### Linear regression through vector - vector dot product"
   ]
  },
  {
   "cell_type": "code",
   "execution_count": 31,
   "metadata": {},
   "outputs": [],
   "source": [
    "def dot(xi, w):\n",
    "    n = len(xi)\n",
    "    res = 0\n",
    "    for j in range(n):\n",
    "        res = res + xi[j] * w[j]\n",
    "    return res \n",
    "\n",
    "def linear_regression_2(xi):\n",
    "    return w0 + dot(xi, w)\n",
    "    # same as\n",
    "    #return w0 + xi.dot(w)"
   ]
  },
  {
   "cell_type": "code",
   "execution_count": 32,
   "metadata": {},
   "outputs": [
    {
     "data": {
      "text/plain": [
       "23.33"
      ]
     },
     "execution_count": 32,
     "metadata": {},
     "output_type": "execute_result"
    }
   ],
   "source": [
    "linear_regression_2(xi)"
   ]
  },
  {
   "cell_type": "code",
   "execution_count": 30,
   "metadata": {},
   "outputs": [
    {
     "data": {
      "text/plain": [
       "23.33"
      ]
     },
     "execution_count": 30,
     "metadata": {},
     "output_type": "execute_result"
    }
   ],
   "source": [
    "w0 + np.array(xi).dot(w)"
   ]
  },
  {
   "cell_type": "markdown",
   "metadata": {},
   "source": [
    "We can avoid summing the vector multiplication with $w_0$ by adding $w_0$ in the beginning of the weights array `w` and `1` in the beginning of the features array `xi`"
   ]
  },
  {
   "cell_type": "code",
   "execution_count": 46,
   "metadata": {},
   "outputs": [
    {
     "name": "stdout",
     "output_type": "stream",
     "text": [
      "[5.45, 0.04, -0.1, 0.01]\n"
     ]
    },
    {
     "data": {
      "text/plain": [
       "array([ 5.45,  0.04, -0.1 ,  0.01])"
      ]
     },
     "execution_count": 46,
     "metadata": {},
     "output_type": "execute_result"
    }
   ],
   "source": [
    "print([w0] + w)\n",
    "# in numpy\n",
    "np.insert(w, 0, w0 )"
   ]
  },
  {
   "cell_type": "code",
   "execution_count": 34,
   "metadata": {},
   "outputs": [
    {
     "data": {
      "text/plain": [
       "[1, 453, 11, 86]"
      ]
     },
     "execution_count": 34,
     "metadata": {},
     "output_type": "execute_result"
    }
   ],
   "source": [
    "[1] + xi"
   ]
  },
  {
   "cell_type": "code",
   "execution_count": 47,
   "metadata": {},
   "outputs": [],
   "source": [
    "# np.insert(array_to_insert_to, position, values, axis(for 2D))\n",
    "w = np.insert(w, 0, w0)\n",
    "xi = np.insert(xi, 0, 1)"
   ]
  },
  {
   "cell_type": "code",
   "execution_count": 48,
   "metadata": {},
   "outputs": [
    {
     "name": "stdout",
     "output_type": "stream",
     "text": [
      "[ 5.45  0.04 -0.1   0.01]\n",
      "[  1 453  11  86]\n"
     ]
    }
   ],
   "source": [
    "print(w)\n",
    "print(xi)"
   ]
  },
  {
   "cell_type": "code",
   "execution_count": 49,
   "metadata": {},
   "outputs": [],
   "source": [
    "# make up values\n",
    "xi = [453, 11, 86]\n",
    "w0 = 5.45 # bias\n",
    "w = [0.04, -0.1, 0.01] # weights"
   ]
  },
  {
   "cell_type": "code",
   "execution_count": 50,
   "metadata": {},
   "outputs": [],
   "source": [
    "def linear_regression_3(xi, w, w0):\n",
    "    wn = np.insert(w, 0, w0)\n",
    "    xn = np.insert(xi, 0, 1)\n",
    "    return xn.dot(wn)\n"
   ]
  },
  {
   "cell_type": "code",
   "execution_count": 51,
   "metadata": {},
   "outputs": [
    {
     "data": {
      "text/plain": [
       "23.33"
      ]
     },
     "execution_count": 51,
     "metadata": {},
     "output_type": "execute_result"
    }
   ],
   "source": [
    "linear_regression_3(xi, w, w0)"
   ]
  },
  {
   "cell_type": "markdown",
   "metadata": {},
   "source": [
    "#### Linear regression as matrix-vector dot product\n",
    "\n",
    "$X * w = y$, where:\n",
    "- `X` -> matrix with arrays of `n` features with leading 1 as the 1st element\n",
    "- `w` -> vector(array) with weight with bias `w0` as the st element\n",
    "- `y` -> vector(array) of predictions"
   ]
  },
  {
   "cell_type": "code",
   "execution_count": 57,
   "metadata": {},
   "outputs": [],
   "source": [
    "# features matrix\n",
    "X = np.array([\n",
    "    [453, 11, 86],\n",
    "    [365, 20, 76],\n",
    "    [501, 16, 70],\n",
    "    [467, 19, 66],\n",
    "    [398, 21, 72],\n",
    "    [403, 13, 65],\n",
    "    [600, 23, 93],\n",
    "    [388, 14, 80],\n",
    "    [345, 12, 98]\n",
    "])\n",
    "w0 = 5.45 # bias\n",
    "w = [0.04, -0.1, 0.01] # weights"
   ]
  },
  {
   "cell_type": "markdown",
   "metadata": {},
   "source": [
    "Dot multiplication matrix `X` with weights `w` -> returns an array of predictions.\n",
    "\n",
    "`X.dot(w) = y_pred`"
   ]
  },
  {
   "cell_type": "code",
   "execution_count": 53,
   "metadata": {},
   "outputs": [
    {
     "data": {
      "text/plain": [
       "array([[  1, 453,  11,  86],\n",
       "       [  1, 365,  20,  76],\n",
       "       [  1, 501,  16,  70],\n",
       "       [  1, 467,  19,  66],\n",
       "       [  1, 398,  21,  72],\n",
       "       [  1, 403,  13,  65],\n",
       "       [  1, 600,  23,  93],\n",
       "       [  1, 388,  14,  80],\n",
       "       [  1, 345,  12,  98]])"
      ]
     },
     "execution_count": 53,
     "metadata": {},
     "output_type": "execute_result"
    }
   ],
   "source": [
    "# add ones to X\n",
    "np.insert(X, 0, np.ones(len(X)), axis = 1)"
   ]
  },
  {
   "cell_type": "code",
   "execution_count": 54,
   "metadata": {},
   "outputs": [
    {
     "data": {
      "text/plain": [
       "array([ 5.45,  0.04, -0.1 ,  0.01])"
      ]
     },
     "execution_count": 54,
     "metadata": {},
     "output_type": "execute_result"
    }
   ],
   "source": [
    "# add w0 to w\n",
    "np.insert(w, 0, w0)"
   ]
  },
  {
   "cell_type": "code",
   "execution_count": 68,
   "metadata": {},
   "outputs": [
    {
     "data": {
      "text/plain": [
       "array([23.33, 18.81, 24.59, 22.89, 19.99, 20.92, 28.08, 20.37, 19.03])"
      ]
     },
     "execution_count": 68,
     "metadata": {},
     "output_type": "execute_result"
    }
   ],
   "source": [
    "X = np.insert(X, 0, np.ones(len(X)), axis = 1)\n",
    "w = np.insert(w, 0, w0)\n",
    "# calculate predictionss\n",
    "X.dot(w)"
   ]
  },
  {
   "cell_type": "markdown",
   "metadata": {},
   "source": [
    "#### Train regression model and calculate weights"
   ]
  },
  {
   "cell_type": "markdown",
   "metadata": {},
   "source": [
    "`X` -> matrix with dimension `(m, n+1)`, where:\n",
    "- `m` -> number of rows, \n",
    "- `n` -> number of features,\n",
    "- `n+1` -> adding 1 in the beginning of every feature vector (see above)\n",
    "\n",
    "We can not create an inverse matrix of `X` because its not squared. If the inverse matrix of `X` existed, we could solve for `w` by multiplying both sides with an inversed matrix: \n",
    "- $X^{-1} * X * w = X^{-1} * y$, \n",
    "- then $X^{-1} * X$ turnes into identity matrix: $I * w = X^{-1} * y$. \n",
    "- As we know from linear algebra, identity matrix multiplied by vector equals that vector $w = X^{-1} * y$.\n",
    "\n",
    "However can make matrix squared by using dot multiplication with its transposed version, this calls __gram matrix__. $X^T * X * w = X^T * y$, it returns matrix with the shape `(n+1, n+1)`."
   ]
  },
  {
   "cell_type": "code",
   "execution_count": 69,
   "metadata": {},
   "outputs": [
    {
     "data": {
      "text/plain": [
       "array([[  1, 453,  11,  86],\n",
       "       [  1, 365,  20,  76],\n",
       "       [  1, 501,  16,  70],\n",
       "       [  1, 467,  19,  66],\n",
       "       [  1, 398,  21,  72],\n",
       "       [  1, 403,  13,  65],\n",
       "       [  1, 600,  23,  93],\n",
       "       [  1, 388,  14,  80],\n",
       "       [  1, 345,  12,  98]])"
      ]
     },
     "execution_count": 69,
     "metadata": {},
     "output_type": "execute_result"
    }
   ],
   "source": [
    "X"
   ]
  },
  {
   "cell_type": "code",
   "execution_count": 67,
   "metadata": {},
   "outputs": [
    {
     "data": {
      "text/plain": [
       "(9, 4)"
      ]
     },
     "execution_count": 67,
     "metadata": {},
     "output_type": "execute_result"
    }
   ],
   "source": [
    "X.shape # m (rows) = 9, n (features) = 3, n+1 = 4"
   ]
  },
  {
   "cell_type": "markdown",
   "metadata": {},
   "source": [
    "#### Step 1.\n",
    "Multiply by sides by transposed matrix `X1.T`\n",
    "\n",
    "$X^T * X * w = X^T * y$, `y` -> `y_train`"
   ]
  },
  {
   "cell_type": "code",
   "execution_count": 70,
   "metadata": {},
   "outputs": [
    {
     "data": {
      "text/plain": [
       "array([[      9,    3920,     149,     706],\n",
       "       [   3920, 1757906,   66141,  308091],\n",
       "       [    149,   66141,    2617,   11632],\n",
       "       [    706,  308091,   11632,   56490]])"
      ]
     },
     "execution_count": 70,
     "metadata": {},
     "output_type": "execute_result"
    }
   ],
   "source": [
    "# gram matrix, shape (4, 4)\n",
    "X.T.dot(X)"
   ]
  },
  {
   "cell_type": "markdown",
   "metadata": {},
   "source": [
    "#### Step 2.\n",
    "Multiply both sides by __inversed__ gram matrix.\n",
    "\n",
    "$(X^T * X)^{-1} * X^T * X * w = (X^T * X)^{-1} * X^T * y$\n",
    "\n",
    "This will turn $(X^T * X)^{-1} * X^T * X$ into __identity matrix__."
   ]
  },
  {
   "cell_type": "code",
   "execution_count": 77,
   "metadata": {},
   "outputs": [
    {
     "data": {
      "text/plain": [
       "array([[ 9.72, -0.01, -0.09, -0.07],\n",
       "       [-0.01,  0.  , -0.  , -0.  ],\n",
       "       [-0.09, -0.  ,  0.01,  0.  ],\n",
       "       [-0.07, -0.  ,  0.  ,  0.  ]])"
      ]
     },
     "execution_count": 77,
     "metadata": {},
     "output_type": "execute_result"
    }
   ],
   "source": [
    "gram = X.T.dot(X)\n",
    "np.linalg.inv(gram).round(2)"
   ]
  },
  {
   "cell_type": "code",
   "execution_count": 78,
   "metadata": {},
   "outputs": [
    {
     "data": {
      "text/plain": [
       "array([[ 1.,  0., -0.,  0.],\n",
       "       [-0.,  1., -0.,  0.],\n",
       "       [ 0., -0.,  1.,  0.],\n",
       "       [-0.,  0., -0.,  1.]])"
      ]
     },
     "execution_count": 78,
     "metadata": {},
     "output_type": "execute_result"
    }
   ],
   "source": [
    "# get identity matrix\n",
    "gram.dot(np.linalg.inv(gram)).round(1)"
   ]
  },
  {
   "cell_type": "markdown",
   "metadata": {},
   "source": [
    "#### Step 3\n",
    "Solve for `w`:\n",
    "\n",
    "$w = (X^T * X)^{-1} * X^T * y$\n",
    "\n",
    "The first element of `w`, `w[0]` is a bias, the rest are weights.\n",
    " \n",
    "$Predictions = w_0 + w_1 * x_{i1} + w_2 * x_{i2} + ... + w_n * x_{in}$"
   ]
  },
  {
   "cell_type": "code",
   "execution_count": 25,
   "metadata": {},
   "outputs": [],
   "source": [
    "def train_linear_regression(X_train: np.array, y_train):\n",
    "    # fit on train\n",
    "    '''\n",
    "    Parameters:\n",
    "        X_train: 2-D array of features\n",
    "        y_train: 1-D array of target variable\n",
    "    The function calculates weights for linear regression equation.\n",
    "    Returns:\n",
    "        w[0] -> float, bias (y-intersect)\n",
    "        w[1:] -> array of weights (floats)\n",
    "    '''\n",
    "    # add 1 to the beginning of every vector in features\n",
    "    X = np.insert(X_train, 0, np.ones(len(X_train)), axis = 1)\n",
    "    # get gram matrix\n",
    "    XTX = X.T.dot(X)\n",
    "    # inverse XTX\n",
    "    XTX_inv = np.linalg.inv(XTX)\n",
    "    # calculate weights\n",
    "    w = XTX_inv.dot(X.T).dot(y_train)\n",
    "    bias = w[0]\n",
    "    weights = w[1:]\n",
    "\n",
    "    return bias, weights"
   ]
  },
  {
   "cell_type": "code",
   "execution_count": 88,
   "metadata": {},
   "outputs": [],
   "source": [
    "# features matrix\n",
    "X = np.array([\n",
    "    [453, 11, 86],\n",
    "    [365, 20, 76],\n",
    "    [501, 16, 70],\n",
    "    [467, 19, 66],\n",
    "    [398, 21, 72],\n",
    "    [403, 13, 65],\n",
    "    [600, 23, 93],\n",
    "    [388, 14, 80],\n",
    "    [345, 12, 98]\n",
    "])\n",
    "y = [24, 56, 78, 91, 34, 22, 74, 45, 63]\n",
    "w0, w = train_linear_regression(X, y)"
   ]
  },
  {
   "cell_type": "code",
   "execution_count": 89,
   "metadata": {},
   "outputs": [],
   "source": [
    "y_pred = w0 + X.dot(w)"
   ]
  },
  {
   "cell_type": "code",
   "execution_count": 90,
   "metadata": {},
   "outputs": [
    {
     "data": {
      "text/plain": [
       "array([46.04800337, 54.42174522, 57.21914082, 59.5100828 , 58.50477151,\n",
       "       42.34675315, 82.77568893, 45.40231191, 40.77150229])"
      ]
     },
     "execution_count": 90,
     "metadata": {},
     "output_type": "execute_result"
    }
   ],
   "source": [
    "y_pred"
   ]
  },
  {
   "cell_type": "markdown",
   "metadata": {},
   "source": [
    "#### Baseline model (Numeric columns only)"
   ]
  },
  {
   "cell_type": "code",
   "execution_count": 17,
   "metadata": {},
   "outputs": [
    {
     "data": {
      "text/plain": [
       "make                  object\n",
       "model                 object\n",
       "year                   int64\n",
       "engine_fuel_type      object\n",
       "engine_hp            float64\n",
       "engine_cylinders     float64\n",
       "transmission_type     object\n",
       "driven_wheels         object\n",
       "number_of_doors      float64\n",
       "market_category       object\n",
       "vehicle_size          object\n",
       "vehicle_style         object\n",
       "highway_mpg            int64\n",
       "city_mpg               int64\n",
       "popularity             int64\n",
       "dtype: object"
      ]
     },
     "execution_count": 17,
     "metadata": {},
     "output_type": "execute_result"
    }
   ],
   "source": [
    "df_train.dtypes"
   ]
  },
  {
   "cell_type": "code",
   "execution_count": 21,
   "metadata": {},
   "outputs": [],
   "source": [
    "numeric = ['engine_hp', 'engine_cylinders', 'highway_mpg', 'city_mpg', 'popularity']\n",
    "def prepare_X(df: pd.DataFrame, cols: list[str]) -> pd.DataFrame:\n",
    "    '''\n",
    "    df: dataframe for the baseline model\n",
    "    cols: numeric column names\n",
    "    '''\n",
    "    df_num = df[cols]\n",
    "    df_num = df_num.fillna(0)\n",
    "    X = df_num.values\n",
    "    return X"
   ]
  },
  {
   "cell_type": "code",
   "execution_count": 26,
   "metadata": {},
   "outputs": [],
   "source": [
    "X_train = prepare_X(df_train, numeric)\n",
    "w0, w = train_linear_regression(X_train, y_train)\n",
    "# for the real price prediction we need to transform back from \n",
    "# log to exp with np.expm1(y_pred)\n",
    "y_pred = w0 + X_train.dot(w)"
   ]
  },
  {
   "cell_type": "code",
   "execution_count": 27,
   "metadata": {},
   "outputs": [
    {
     "data": {
      "text/plain": [
       "array([ 8.91295088, 11.43349293,  8.98863555, ...,  9.330657  ,\n",
       "       13.0175407 , 10.45858657])"
      ]
     },
     "execution_count": 27,
     "metadata": {},
     "output_type": "execute_result"
    }
   ],
   "source": [
    "y_pred"
   ]
  },
  {
   "cell_type": "code",
   "execution_count": 29,
   "metadata": {},
   "outputs": [
    {
     "data": {
      "image/png": "[encoded data removed]",
      "text/plain": [
       "<Figure size 640x480 with 1 Axes>"
      ]
     },
     "metadata": {},
     "output_type": "display_data"
    }
   ],
   "source": [
    "# plot actual vs predictions\n",
    "sns.histplot(y_train, label='target', color='orange', alpha=0.6, bins=40)\n",
    "sns.histplot(y_pred, label='prediction', color='blue', alpha=0.4, bins=40)\n",
    "\n",
    "plt.legend()\n",
    "\n",
    "plt.ylabel('Frequency')\n",
    "plt.xlabel('Log(Price + 1)')\n",
    "plt.title('Predictions vs actual distribution')\n",
    "\n",
    "plt.show()"
   ]
  },
  {
   "cell_type": "markdown",
   "metadata": {},
   "source": [
    "#### RMSE score"
   ]
  },
  {
   "cell_type": "code",
   "execution_count": 30,
   "metadata": {},
   "outputs": [],
   "source": [
    "def rmse(y, y_pred):\n",
    "    ''' \n",
    "    y - actual prices\n",
    "    y_pred - predicted prices\n",
    "\n",
    "    calculates RMSE score\n",
    "    '''\n",
    "    error = y - y_pred\n",
    "    mse = (error ** 2).mean()\n",
    "    return np.sqrt(mse)"
   ]
  },
  {
   "cell_type": "code",
   "execution_count": 31,
   "metadata": {},
   "outputs": [
    {
     "data": {
      "text/plain": [
       "0.7494514707393684"
      ]
     },
     "execution_count": 31,
     "metadata": {},
     "output_type": "execute_result"
    }
   ],
   "source": [
    "rmse(y_train, y_pred)"
   ]
  },
  {
   "cell_type": "code",
   "execution_count": 33,
   "metadata": {},
   "outputs": [
    {
     "data": {
      "text/plain": [
       "0.7749677724415818"
      ]
     },
     "execution_count": 33,
     "metadata": {},
     "output_type": "execute_result"
    }
   ],
   "source": [
    "X_validate = prepare_X(df_val,numeric)\n",
    "y_pred_val = w0 + X_validate.dot(w)\n",
    "rmse(y_val, y_pred_val)"
   ]
  },
  {
   "cell_type": "markdown",
   "metadata": {},
   "source": [
    "Simple feature engineering: calculate the age of cars."
   ]
  },
  {
   "cell_type": "code",
   "execution_count": 44,
   "metadata": {},
   "outputs": [],
   "source": [
    "# rewrite prepare, addd age\n",
    "def prepare_X(df: pd.DataFrame) -> pd.DataFrame:\n",
    "    '''\n",
    "    df: dataframe for the baseline model\n",
    "    cols: numeric column names\n",
    "    '''\n",
    "    df = df.copy()\n",
    "    df['age'] = 2017 - df.year\n",
    "    cols = ['engine_hp', 'engine_cylinders', 'highway_mpg', 'city_mpg', 'popularity', 'age']\n",
    "    df_num = df[cols]\n",
    "    df_num = df_num.fillna(0)\n",
    "    X = df_num.values\n",
    "    return X"
   ]
  },
  {
   "cell_type": "code",
   "execution_count": 35,
   "metadata": {},
   "outputs": [
    {
     "name": "stdout",
     "output_type": "stream",
     "text": [
      "train 0.5128811907596227\n",
      "validation 0.5188150608818473\n"
     ]
    }
   ],
   "source": [
    "X_train = prepare_X(df_train)\n",
    "w0, w = train_linear_regression(X_train, y_train)\n",
    "\n",
    "y_pred = w0 + X_train.dot(w)\n",
    "print('train', rmse(y_train, y_pred))\n",
    "\n",
    "X_val = prepare_X(df_val)\n",
    "y_pred_val = w0 + X_val.dot(w)\n",
    "print('validation', rmse(y_val, y_pred_val))"
   ]
  },
  {
   "cell_type": "code",
   "execution_count": 36,
   "metadata": {},
   "outputs": [
    {
     "data": {
      "image/png": "[encoded data removed]",
      "text/plain": [
       "<Figure size 640x480 with 1 Axes>"
      ]
     },
     "metadata": {},
     "output_type": "display_data"
    }
   ],
   "source": [
    "# plot actual vs predictions\n",
    "sns.histplot(y_train, label='target', color='orange', alpha=0.6, bins=40)\n",
    "sns.histplot(y_pred, label='prediction', color='blue', alpha=0.4, bins=40)\n",
    "\n",
    "plt.legend()\n",
    "\n",
    "plt.ylabel('Frequency')\n",
    "plt.xlabel('Log(Price + 1)')\n",
    "plt.title('Predictions vs actual distribution')\n",
    "\n",
    "plt.show()"
   ]
  },
  {
   "cell_type": "markdown",
   "metadata": {},
   "source": [
    "#### Categorical variables"
   ]
  },
  {
   "cell_type": "code",
   "execution_count": 37,
   "metadata": {},
   "outputs": [
    {
     "data": {
      "text/plain": [
       "array(['bmw', 'audi', 'fiat', 'mercedes-benz', 'chrysler', 'nissan',\n",
       "       'volvo', 'mazda', 'mitsubishi', 'ferrari', 'alfa_romeo', 'toyota',\n",
       "       'mclaren', 'maybach', 'pontiac', 'porsche', 'saab', 'gmc',\n",
       "       'hyundai', 'plymouth', 'honda', 'oldsmobile', 'suzuki', 'ford',\n",
       "       'cadillac', 'kia', 'bentley', 'chevrolet', 'dodge', 'lamborghini',\n",
       "       'lincoln', 'subaru', 'volkswagen', 'spyker', 'buick', 'acura',\n",
       "       'rolls-royce', 'maserati', 'lexus', 'aston_martin', 'land_rover',\n",
       "       'lotus', 'infiniti', 'scion', 'genesis', 'hummer', 'tesla',\n",
       "       'bugatti'], dtype=object)"
      ]
     },
     "execution_count": 37,
     "metadata": {},
     "output_type": "execute_result"
    }
   ],
   "source": [
    "df.make.unique()"
   ]
  },
  {
   "cell_type": "code",
   "execution_count": 39,
   "metadata": {},
   "outputs": [
    {
     "data": {
      "text/plain": [
       "48"
      ]
     },
     "execution_count": 39,
     "metadata": {},
     "output_type": "execute_result"
    }
   ],
   "source": [
    "df.make.nunique()"
   ]
  },
  {
   "cell_type": "code",
   "execution_count": 48,
   "metadata": {},
   "outputs": [
    {
     "data": {
      "text/plain": [
       "['chevrolet', 'ford', 'volkswagen', 'toyota', 'dodge']"
      ]
     },
     "execution_count": 48,
     "metadata": {},
     "output_type": "execute_result"
    }
   ],
   "source": [
    "list(df.make.value_counts().head(5).index)"
   ]
  },
  {
   "cell_type": "code",
   "execution_count": 45,
   "metadata": {},
   "outputs": [
    {
     "data": {
      "text/plain": [
       "make                    0\n",
       "model                   0\n",
       "year                    0\n",
       "engine_fuel_type        3\n",
       "engine_hp              69\n",
       "engine_cylinders       30\n",
       "transmission_type       0\n",
       "driven_wheels           0\n",
       "number_of_doors         6\n",
       "market_category      3742\n",
       "vehicle_size            0\n",
       "vehicle_style           0\n",
       "highway_mpg             0\n",
       "city_mpg                0\n",
       "popularity              0\n",
       "msrp                    0\n",
       "dtype: int64"
      ]
     },
     "execution_count": 45,
     "metadata": {},
     "output_type": "execute_result"
    }
   ],
   "source": [
    "df.isnull().sum()"
   ]
  },
  {
   "cell_type": "code",
   "execution_count": 49,
   "metadata": {},
   "outputs": [],
   "source": [
    "base = ['engine_hp', 'engine_cylinders', 'highway_mpg', 'city_mpg', 'popularity']\n",
    "def prepare_X(df: pd.DataFrame) -> pd.DataFrame:\n",
    "    '''\n",
    "    df: dataframe for the baseline model\n",
    "    cols: numeric column names\n",
    "    '''\n",
    "    df = df.copy()\n",
    "    features = base.copy()\n",
    "\n",
    "    df['age'] = 2017 - df.year\n",
    "    features.append('age')\n",
    "    \n",
    "    # got through top-5 car brands\n",
    "    for v in list(df.make.value_counts().head(5).index):\n",
    "        feature = 'is_make_%s' % v\n",
    "        df[feature] = (df['make'] == v).astype(int)\n",
    "        features.append(feature)\n",
    "    \n",
    "    # go through number of doors\n",
    "    for v in [2, 3, 4]:\n",
    "        feature = 'num_doors_%s' % v\n",
    "        df[feature] = (df['number_of_doors'] == v).astype(int)\n",
    "        features.append(feature)\n",
    "\n",
    "\n",
    "    df_new = df[features]\n",
    "    df_new = df_new.fillna(0)\n",
    "    X = df_new.values\n",
    "    return X"
   ]
  },
  {
   "cell_type": "code",
   "execution_count": 50,
   "metadata": {},
   "outputs": [
    {
     "name": "stdout",
     "output_type": "stream",
     "text": [
      "train 0.5026750065739469\n",
      "validation 0.5075439929907208\n"
     ]
    }
   ],
   "source": [
    "# cope paste train model/calculate score\n",
    "X_train = prepare_X(df_train)\n",
    "w0, w = train_linear_regression(X_train, y_train)\n",
    "\n",
    "y_pred = w0 + X_train.dot(w)\n",
    "print('train', rmse(y_train, y_pred))\n",
    "\n",
    "X_val = prepare_X(df_val)\n",
    "y_pred_val = w0 + X_val.dot(w)\n",
    "print('validation', rmse(y_val, y_pred_val))"
   ]
  },
  {
   "cell_type": "code",
   "execution_count": 51,
   "metadata": {},
   "outputs": [
    {
     "data": {
      "text/plain": [
       "array(['automatic', 'manual', 'automated_manual', 'direct_drive',\n",
       "       'unknown'], dtype=object)"
      ]
     },
     "execution_count": 51,
     "metadata": {},
     "output_type": "execute_result"
    }
   ],
   "source": [
    "# add transmission and engine fuel type\n",
    "df_train.transmission_type.unique()"
   ]
  },
  {
   "cell_type": "code",
   "execution_count": 52,
   "metadata": {},
   "outputs": [
    {
     "data": {
      "text/plain": [
       "automatic           4923\n",
       "manual              1810\n",
       "automated_manual     366\n",
       "direct_drive          40\n",
       "unknown               11\n",
       "Name: transmission_type, dtype: int64"
      ]
     },
     "execution_count": 52,
     "metadata": {},
     "output_type": "execute_result"
    }
   ],
   "source": [
    "df_train.transmission_type.value_counts() # take top-3 only"
   ]
  },
  {
   "cell_type": "code",
   "execution_count": 53,
   "metadata": {},
   "outputs": [
    {
     "data": {
      "text/plain": [
       "array(['diesel', 'premium_unleaded_(required)', 'regular_unleaded',\n",
       "       'premium_unleaded_(recommended)', 'flex-fuel_(unleaded/e85)',\n",
       "       'flex-fuel_(premium_unleaded_required/e85)', 'electric',\n",
       "       'flex-fuel_(premium_unleaded_recommended/e85)',\n",
       "       'flex-fuel_(unleaded/natural_gas)', 'natural_gas', nan],\n",
       "      dtype=object)"
      ]
     },
     "execution_count": 53,
     "metadata": {},
     "output_type": "execute_result"
    }
   ],
   "source": [
    "df_train.engine_fuel_type.unique()"
   ]
  },
  {
   "cell_type": "code",
   "execution_count": 57,
   "metadata": {},
   "outputs": [
    {
     "data": {
      "text/plain": [
       "10"
      ]
     },
     "execution_count": 57,
     "metadata": {},
     "output_type": "execute_result"
    }
   ],
   "source": [
    "df_train.engine_fuel_type.nunique()"
   ]
  },
  {
   "cell_type": "code",
   "execution_count": 58,
   "metadata": {},
   "outputs": [
    {
     "data": {
      "text/plain": [
       "regular_unleaded                                4281\n",
       "premium_unleaded_(required)                     1205\n",
       "premium_unleaded_(recommended)                   937\n",
       "flex-fuel_(unleaded/e85)                         541\n",
       "diesel                                            88\n",
       "electric                                          39\n",
       "flex-fuel_(premium_unleaded_required/e85)         34\n",
       "flex-fuel_(premium_unleaded_recommended/e85)      17\n",
       "flex-fuel_(unleaded/natural_gas)                   3\n",
       "natural_gas                                        2\n",
       "Name: engine_fuel_type, dtype: int64"
      ]
     },
     "execution_count": 58,
     "metadata": {},
     "output_type": "execute_result"
    }
   ],
   "source": [
    "df_train.engine_fuel_type.value_counts() # top 4"
   ]
  },
  {
   "cell_type": "code",
   "execution_count": 59,
   "metadata": {},
   "outputs": [],
   "source": [
    "# change prepare\n",
    "\n",
    "base = ['engine_hp', 'engine_cylinders', 'highway_mpg', 'city_mpg', 'popularity']\n",
    "def prepare_X(df: pd.DataFrame) -> pd.DataFrame:\n",
    "    '''\n",
    "    df: dataframe for the baseline model\n",
    "    cols: numeric column names\n",
    "    '''\n",
    "    df = df.copy()\n",
    "    features = base.copy()\n",
    "\n",
    "    df['age'] = 2017 - df.year\n",
    "    features.append('age')\n",
    "    \n",
    "    # got through top-5 car brands\n",
    "    for v in list(df.make.value_counts().head(5).index):\n",
    "        feature = 'is_make_%s' % v\n",
    "        df[feature] = (df['make'] == v).astype(int)\n",
    "        features.append(feature)\n",
    "    \n",
    "    # go through number of doors\n",
    "    for v in [2, 3, 4]:\n",
    "        feature = 'num_doors_%s' % v\n",
    "        df[feature] = (df['number_of_doors'] == v).astype(int)\n",
    "        features.append(feature)\n",
    "\n",
    "    # top-3 transmission\n",
    "    for v in df.transmission_type.value_counts().head(3):\n",
    "        feature = 'transmission_%s' % v \n",
    "        df[feature] = (df.transmission_type == v).astype('uint8')\n",
    "        features.append(feature)\n",
    "\n",
    "    # top-4 engine fuel type\n",
    "    for v in df.engine_fuel_type.value_counts().head(4):\n",
    "        feature = 'engine_fuel_%s' % v \n",
    "        df[feature] = (df.engine_fuel_type == v).astype('uint8')\n",
    "        features.append(feature)\n",
    "\n",
    "    df_new = df[features]\n",
    "    df_new = df_new.fillna(0)\n",
    "    X = df_new.values\n",
    "    return X"
   ]
  },
  {
   "cell_type": "code",
   "execution_count": null,
   "metadata": {},
   "outputs": [],
   "source": []
  }
 ],
 "metadata": {
  "kernelspec": {
   "display_name": "base",
   "language": "python",
   "name": "python3"
  },
  "language_info": {
   "codemirror_mode": {
    "name": "ipython",
    "version": 3
   },
   "file_extension": ".py",
   "mimetype": "text/x-python",
   "name": "python",
   "nbconvert_exporter": "python",
   "pygments_lexer": "ipython3",
   "version": "3.10.9"
  },
  "orig_nbformat": 4
 },
 "nbformat": 4,
 "nbformat_minor": 2
}
