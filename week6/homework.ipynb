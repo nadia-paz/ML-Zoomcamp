{
 "cells": [
  {
   "cell_type": "code",
   "execution_count": 1,
   "metadata": {},
   "outputs": [],
   "source": [
    "import numpy as np \n",
    "import pandas as pd\n",
    "\n",
    "import matplotlib.pyplot as plt \n",
    "import seaborn as sns\n",
    "%matplotlib inline\n",
    "%config InlineBackend.figure_format='retina'"
   ]
  },
  {
   "cell_type": "markdown",
   "metadata": {},
   "source": [
    "First, keep only the records where ocean_proximity is either `'<1H OCEAN'` or `'INLAND'`"
   ]
  },
  {
   "cell_type": "code",
   "execution_count": 2,
   "metadata": {},
   "outputs": [
    {
     "data": {
      "text/html": [
       "<div>\n",
       "<style scoped>\n",
       "    .dataframe tbody tr th:only-of-type {\n",
       "        vertical-align: middle;\n",
       "    }\n",
       "\n",
       "    .dataframe tbody tr th {\n",
       "        vertical-align: top;\n",
       "    }\n",
       "\n",
       "    .dataframe thead th {\n",
       "        text-align: right;\n",
       "    }\n",
       "</style>\n",
       "<table border=\"1\" class=\"dataframe\">\n",
       "  <thead>\n",
       "    <tr style=\"text-align: right;\">\n",
       "      <th></th>\n",
       "      <th>longitude</th>\n",
       "      <th>latitude</th>\n",
       "      <th>housing_median_age</th>\n",
       "      <th>total_rooms</th>\n",
       "      <th>total_bedrooms</th>\n",
       "      <th>population</th>\n",
       "      <th>households</th>\n",
       "      <th>median_income</th>\n",
       "      <th>median_house_value</th>\n",
       "      <th>ocean_proximity</th>\n",
       "    </tr>\n",
       "  </thead>\n",
       "  <tbody>\n",
       "    <tr>\n",
       "      <th>954</th>\n",
       "      <td>-121.92</td>\n",
       "      <td>37.64</td>\n",
       "      <td>46.0</td>\n",
       "      <td>1280.0</td>\n",
       "      <td>209.0</td>\n",
       "      <td>512.0</td>\n",
       "      <td>208.0</td>\n",
       "      <td>5.1406</td>\n",
       "      <td>315600.0</td>\n",
       "      <td>INLAND</td>\n",
       "    </tr>\n",
       "    <tr>\n",
       "      <th>957</th>\n",
       "      <td>-121.90</td>\n",
       "      <td>37.66</td>\n",
       "      <td>18.0</td>\n",
       "      <td>7397.0</td>\n",
       "      <td>1137.0</td>\n",
       "      <td>3126.0</td>\n",
       "      <td>1115.0</td>\n",
       "      <td>6.4994</td>\n",
       "      <td>323000.0</td>\n",
       "      <td>INLAND</td>\n",
       "    </tr>\n",
       "    <tr>\n",
       "      <th>965</th>\n",
       "      <td>-121.88</td>\n",
       "      <td>37.68</td>\n",
       "      <td>23.0</td>\n",
       "      <td>2234.0</td>\n",
       "      <td>270.0</td>\n",
       "      <td>854.0</td>\n",
       "      <td>286.0</td>\n",
       "      <td>7.3330</td>\n",
       "      <td>337200.0</td>\n",
       "      <td>INLAND</td>\n",
       "    </tr>\n",
       "    <tr>\n",
       "      <th>967</th>\n",
       "      <td>-121.88</td>\n",
       "      <td>37.67</td>\n",
       "      <td>16.0</td>\n",
       "      <td>4070.0</td>\n",
       "      <td>624.0</td>\n",
       "      <td>1543.0</td>\n",
       "      <td>577.0</td>\n",
       "      <td>6.5214</td>\n",
       "      <td>311500.0</td>\n",
       "      <td>INLAND</td>\n",
       "    </tr>\n",
       "    <tr>\n",
       "      <th>968</th>\n",
       "      <td>-121.88</td>\n",
       "      <td>37.67</td>\n",
       "      <td>25.0</td>\n",
       "      <td>2244.0</td>\n",
       "      <td>301.0</td>\n",
       "      <td>937.0</td>\n",
       "      <td>324.0</td>\n",
       "      <td>6.4524</td>\n",
       "      <td>296900.0</td>\n",
       "      <td>INLAND</td>\n",
       "    </tr>\n",
       "  </tbody>\n",
       "</table>\n",
       "</div>"
      ],
      "text/plain": [
       "     longitude  latitude  housing_median_age  total_rooms  total_bedrooms  \\\n",
       "954    -121.92     37.64                46.0       1280.0           209.0   \n",
       "957    -121.90     37.66                18.0       7397.0          1137.0   \n",
       "965    -121.88     37.68                23.0       2234.0           270.0   \n",
       "967    -121.88     37.67                16.0       4070.0           624.0   \n",
       "968    -121.88     37.67                25.0       2244.0           301.0   \n",
       "\n",
       "     population  households  median_income  median_house_value ocean_proximity  \n",
       "954       512.0       208.0         5.1406            315600.0          INLAND  \n",
       "957      3126.0      1115.0         6.4994            323000.0          INLAND  \n",
       "965       854.0       286.0         7.3330            337200.0          INLAND  \n",
       "967      1543.0       577.0         6.5214            311500.0          INLAND  \n",
       "968       937.0       324.0         6.4524            296900.0          INLAND  "
      ]
     },
     "execution_count": 2,
     "metadata": {},
     "output_type": "execute_result"
    }
   ],
   "source": [
    "df = pd.read_csv('../data/housing.csv')\n",
    "df = df.query('ocean_proximity == \"INLAND\"')\n",
    "df.head()"
   ]
  },
  {
   "cell_type": "code",
   "execution_count": 3,
   "metadata": {},
   "outputs": [
    {
     "data": {
      "text/plain": [
       "array(['INLAND'], dtype=object)"
      ]
     },
     "execution_count": 3,
     "metadata": {},
     "output_type": "execute_result"
    }
   ],
   "source": [
    "# check if query is correct\n",
    "df.ocean_proximity.unique()"
   ]
  },
  {
   "cell_type": "code",
   "execution_count": 4,
   "metadata": {},
   "outputs": [],
   "source": [
    "# drop ocean proximity\n",
    "del df['ocean_proximity']"
   ]
  },
  {
   "cell_type": "code",
   "execution_count": null,
   "metadata": {},
   "outputs": [],
   "source": []
  }
 ],
 "metadata": {
  "kernelspec": {
   "display_name": "ml-zoomcamp",
   "language": "python",
   "name": "python3"
  },
  "language_info": {
   "codemirror_mode": {
    "name": "ipython",
    "version": 3
   },
   "file_extension": ".py",
   "mimetype": "text/x-python",
   "name": "python",
   "nbconvert_exporter": "python",
   "pygments_lexer": "ipython3",
   "version": "3.9.18"
  }
 },
 "nbformat": 4,
 "nbformat_minor": 2
}
